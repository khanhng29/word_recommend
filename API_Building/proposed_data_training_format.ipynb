{
  "nbformat": 4,
  "nbformat_minor": 0,
  "metadata": {
    "colab": {
      "provenance": [],
      "gpuType": "T4"
    },
    "kernelspec": {
      "name": "python3",
      "display_name": "Python 3"
    },
    "language_info": {
      "name": "python"
    },
    "accelerator": "GPU"
  },
  "cells": [
    {
      "cell_type": "code",
      "source": [
        "'''\n",
        "Regex pattern\n",
        "xoá tất cả dấu () và char bên trong: \\([^)]+\\)\n",
        "xoá tất cả kí tự đặc biệt: [\\\\\"#%&'\\-\\/:;<=>@_`~!^$.*+?()[\\]{}|] # nhớ không bỏ white space và dấu phẩy và dấu _ nếu tokenize trước\n",
        "'''"
      ],
      "metadata": {
        "id": "zM1Xw6DyJySV"
      },
      "execution_count": null,
      "outputs": []
    },
    {
      "cell_type": "code",
      "execution_count": 1,
      "metadata": {
        "colab": {
          "base_uri": "https://localhost:8080/"
        },
        "id": "Dr2txRcfaTBB",
        "outputId": "3e3e2c28-7632-4d5f-b320-9b70cdd50b98"
      },
      "outputs": [
        {
          "output_type": "stream",
          "name": "stdout",
          "text": [
            "Mounted at /content/drive\n"
          ]
        }
      ],
      "source": [
        "from google.colab import drive\n",
        "drive.mount('/content/drive')"
      ]
    },
    {
      "cell_type": "markdown",
      "source": [
        "# Import thư viện"
      ],
      "metadata": {
        "id": "7yLnHUbl8JCj"
      }
    },
    {
      "cell_type": "code",
      "source": [
        "%cd /content/drive/MyDrive/Colab_Notebooks/word_recommendation"
      ],
      "metadata": {
        "colab": {
          "base_uri": "https://localhost:8080/"
        },
        "id": "8-6m2mumap7u",
        "outputId": "67835251-0818-404a-b866-86903703ee31"
      },
      "execution_count": 2,
      "outputs": [
        {
          "output_type": "stream",
          "name": "stdout",
          "text": [
            "/content/drive/MyDrive/Colab_Notebooks/word_recommendation\n"
          ]
        }
      ]
    },
    {
      "cell_type": "code",
      "source": [
        "!pip install pyvi"
      ],
      "metadata": {
        "id": "mqLfiKNSdh2P",
        "colab": {
          "base_uri": "https://localhost:8080/"
        },
        "outputId": "e9ee126c-6f56-4cbb-decd-8e84ed8f369e",
        "collapsed": true
      },
      "execution_count": 3,
      "outputs": [
        {
          "output_type": "stream",
          "name": "stdout",
          "text": [
            "Collecting pyvi\n",
            "  Downloading pyvi-0.1.1-py2.py3-none-any.whl (8.5 MB)\n",
            "\u001b[2K     \u001b[90m━━━━━━━━━━━━━━━━━━━━━━━━━━━━━━━━━━━━━━━━\u001b[0m \u001b[32m8.5/8.5 MB\u001b[0m \u001b[31m59.7 MB/s\u001b[0m eta \u001b[36m0:00:00\u001b[0m\n",
            "\u001b[?25hRequirement already satisfied: scikit-learn in /usr/local/lib/python3.10/dist-packages (from pyvi) (1.2.2)\n",
            "Collecting sklearn-crfsuite (from pyvi)\n",
            "  Downloading sklearn_crfsuite-0.3.6-py2.py3-none-any.whl (12 kB)\n",
            "Requirement already satisfied: numpy>=1.17.3 in /usr/local/lib/python3.10/dist-packages (from scikit-learn->pyvi) (1.23.5)\n",
            "Requirement already satisfied: scipy>=1.3.2 in /usr/local/lib/python3.10/dist-packages (from scikit-learn->pyvi) (1.11.2)\n",
            "Requirement already satisfied: joblib>=1.1.1 in /usr/local/lib/python3.10/dist-packages (from scikit-learn->pyvi) (1.3.2)\n",
            "Requirement already satisfied: threadpoolctl>=2.0.0 in /usr/local/lib/python3.10/dist-packages (from scikit-learn->pyvi) (3.2.0)\n",
            "Collecting python-crfsuite>=0.8.3 (from sklearn-crfsuite->pyvi)\n",
            "  Downloading python_crfsuite-0.9.9-cp310-cp310-manylinux_2_17_x86_64.manylinux2014_x86_64.whl (993 kB)\n",
            "\u001b[2K     \u001b[90m━━━━━━━━━━━━━━━━━━━━━━━━━━━━━━━━━━━━━━\u001b[0m \u001b[32m993.5/993.5 kB\u001b[0m \u001b[31m32.2 MB/s\u001b[0m eta \u001b[36m0:00:00\u001b[0m\n",
            "\u001b[?25hRequirement already satisfied: six in /usr/local/lib/python3.10/dist-packages (from sklearn-crfsuite->pyvi) (1.16.0)\n",
            "Requirement already satisfied: tabulate in /usr/local/lib/python3.10/dist-packages (from sklearn-crfsuite->pyvi) (0.9.0)\n",
            "Requirement already satisfied: tqdm>=2.0 in /usr/local/lib/python3.10/dist-packages (from sklearn-crfsuite->pyvi) (4.66.1)\n",
            "Installing collected packages: python-crfsuite, sklearn-crfsuite, pyvi\n",
            "Successfully installed python-crfsuite-0.9.9 pyvi-0.1.1 sklearn-crfsuite-0.3.6\n"
          ]
        }
      ]
    },
    {
      "cell_type": "code",
      "source": [
        "import tensorflow as tf\n",
        "from tensorflow.keras.models import Sequential\n",
        "from tensorflow.keras.layers import Embedding, LSTM, Dense, Bidirectional\n",
        "from tensorflow.keras.preprocessing.text import Tokenizer\n",
        "from tensorflow.keras.preprocessing.sequence import pad_sequences\n",
        "from tensorflow.keras.optimizers import Adam\n",
        "import numpy as np\n",
        "import regex as re\n",
        "import pickle\n",
        "from pyvi import ViTokenizer, ViPosTagger\n",
        "import pandas as pd"
      ],
      "metadata": {
        "id": "h4jkkpWIieVX"
      },
      "execution_count": 4,
      "outputs": []
    },
    {
      "cell_type": "markdown",
      "source": [
        "# Tiền xử lí dữ liệu"
      ],
      "metadata": {
        "id": "6OM7dwGQULlA"
      }
    },
    {
      "cell_type": "markdown",
      "source": [
        "## Regex"
      ],
      "metadata": {
        "id": "tv3iBzdXlJlm"
      }
    },
    {
      "cell_type": "code",
      "source": [
        "# # Testing regex pattern\n",
        "# text = \"Bên cạnh đó, CTĐT cử nhân ngành X được hỗ trợ, phục vụ bởi đội ngũ chuyên viên, \\\n",
        "# nhân viên có kiến thức chuyên môn, có kỹ năng làm việc chuyên nghiệp của Khoa và Trường \\\n",
        "# gồm các GV, chuyên viên hành chính của Khoa, chuyên viên các phòng/bộ phận như Trung tâm Công nghệ thông tin (X), \\\n",
        "# Phòng Quản lý Đào tạo (P.QLĐT), Phòng Hành chính tổng hợp (P.HCTH),1234567890 \\\\#%&'\\-/:;<=>@_`~!^$.*+?[\\]{}|\"\n",
        "\n",
        "# # Define a regex pattern to match special characters, including backslashes\n",
        "# pattern = r'[1234567890#%&\\'\\-/:;<=>@_`~!^$,.*+?[\\]{}|\\\\]|\\([^)]+\\)'\n",
        "\n",
        "# # Remove the special characters using regex\n",
        "# cleaned_text = re.sub(pattern, '', text)\n",
        "\n",
        "# # Print the cleaned text\n",
        "# # print(cleaned_text)\n"
      ],
      "metadata": {
        "id": "-wE3qckkVajL"
      },
      "execution_count": 7,
      "outputs": []
    },
    {
      "cell_type": "code",
      "source": [
        "# Chạy real\n",
        "\n",
        "# file_path = \"/content/drive/MyDrive/Colab_Notebooks/word_recommendation/NextWordPredictor_1/small_recommedation_6_9_2023.txt\"\n",
        "file_path = \"/content/drive/MyDrive/Colab_Notebooks/word_recommendation/NextWordPredictor_1/data_for_recommed_word_6_9_2023.txt\"\n",
        "# đọc file\n",
        "with open(file_path, 'r', encoding='utf-8') as file:\n",
        "    text = file.read()\n",
        "split_data = text.split('\\n')\n",
        "split_data\n",
        "\n",
        "# xoá kí tự đặc biệt\n",
        "pattern = r'[1234567890#%&\\'\\-/:;<=>@_`~!^$,.*+?[\\]{}|\\\\]|\\([^)]+\\)'\n",
        "def delete_special_char(data, pattern):\n",
        "  clean_data = [re.sub(pattern,  '', line) for line in data]\n",
        "  return clean_data\n",
        "\n",
        "cleaned_data = delete_special_char(split_data, pattern)\n",
        "# type(cleaned_data)\n",
        "\n",
        "# Tokenizing\n",
        "def tokenize_pyvi(data):\n",
        "  tokenized_sentences = [ViTokenizer.tokenize(sentence) for sentence in data]\n",
        "  return tokenized_sentences\n",
        "\n",
        "tokenized_sentences = tokenize_pyvi(cleaned_data)\n",
        "# tokenized_sentences # kết quả"
      ],
      "metadata": {
        "id": "nXigCcsklFnh",
        "collapsed": true
      },
      "execution_count": 5,
      "outputs": []
    },
    {
      "cell_type": "markdown",
      "source": [
        "## Chuyển tokenized data thành format để train model"
      ],
      "metadata": {
        "id": "oghBDamL8szk"
      }
    },
    {
      "cell_type": "code",
      "source": [
        "# cách của Q có thể sẽ bỏ\n",
        "# def tokenize_pyvi_Quan(data):\n",
        "#   tokenized_sentences = [ViTokenizer.tokenize(sentence) for sentence in data]\n",
        "#   return tokenized_sentences\n",
        "\n",
        "def tokenize_pyvi_Vinh(data):\n",
        "  tokenized_sentences = [ViTokenizer.tokenize(sentence).split() for sentence in data]\n",
        "  return  tokenized_sentences\n",
        "\n",
        "tokenized_sentences = tokenize_pyvi_Vinh(cleaned_data)\n",
        "len(tokenized_sentences)"
      ],
      "metadata": {
        "collapsed": true,
        "id": "063Q9AlzyUYZ",
        "colab": {
          "base_uri": "https://localhost:8080/"
        },
        "outputId": "0f07159f-06a5-42ff-aa02-76271311be42"
      },
      "execution_count": 6,
      "outputs": [
        {
          "output_type": "execute_result",
          "data": {
            "text/plain": [
              "3314"
            ]
          },
          "metadata": {},
          "execution_count": 6
        }
      ]
    },
    {
      "cell_type": "code",
      "source": [
        "# chuyển đổi thành sequence(số)/đánh index cho từng token\n",
        "tokenizer = tf.keras.preprocessing.text.Tokenizer()\n",
        "tokenizer.fit_on_texts(tokenized_sentences)\n",
        "seq = tokenizer.texts_to_sequences(tokenized_sentences)"
      ],
      "metadata": {
        "id": "oU-7oznGmknG"
      },
      "execution_count": 7,
      "outputs": []
    },
    {
      "cell_type": "code",
      "source": [
        "X = []\n",
        "y = []\n",
        "total_words_dropped = 0\n",
        "\n",
        "for i in seq:\n",
        "    if len(i) > 1:\n",
        "        for index in range(1, len(i)):\n",
        "            X.append(i[:index])\n",
        "            y.append(i[index])\n",
        "    else:\n",
        "        total_words_dropped += 1\n",
        "print(\"Total Single Words Dropped are:\", total_words_dropped)\n",
        "# Dữ liệu đã có thể đem train\n",
        "print(f'Dữ liệu training sẵn sàng')\n",
        "print(f'Dữ liệu testing sẵn sàng')\n",
        "# cho model fit X và y"
      ],
      "metadata": {
        "colab": {
          "base_uri": "https://localhost:8080/"
        },
        "id": "GzwrR91q7aCv",
        "outputId": "8463f82e-dd71-44df-f8ea-28607a4798df"
      },
      "execution_count": 8,
      "outputs": [
        {
          "output_type": "stream",
          "name": "stdout",
          "text": [
            "Total Single Words Dropped are: 79\n",
            "Dữ liệu training sẵn sàng\n",
            "Dữ liệu testing sẵn sàng\n"
          ]
        }
      ]
    },
    {
      "cell_type": "code",
      "source": [
        "X = tf.keras.preprocessing.sequence.pad_sequences(X, maxlen=25) # vá những chỗ trống với [0] để các input đều có length bằng nhau / độ dài mặc định sẽ là chiều dài của câu dài nhất\n",
        "y = tf.keras.utils.to_categorical(y) # đổi từ vector(interger) thành binary class matrix\n",
        "vocab_size = len(tokenizer.word_index) + 1 # vocab size + 1 vì trong đó 1 giá trị OOV(out of vocab)"
      ],
      "metadata": {
        "id": "X8dYtaiTCQ-J"
      },
      "execution_count": 9,
      "outputs": []
    },
    {
      "cell_type": "markdown",
      "source": [
        "# Chạy model"
      ],
      "metadata": {
        "id": "PjctO1JFBFNH"
      }
    },
    {
      "cell_type": "code",
      "source": [
        "# xác định input_length\n",
        "seq_len = [len(sentence) for sentence in tokenized_sentences]\n",
        "pd.Series(seq_len).hist(bins=30)"
      ],
      "metadata": {
        "colab": {
          "base_uri": "https://localhost:8080/",
          "height": 448
        },
        "id": "a2QeF0a3A2ES",
        "outputId": "943ac390-0be7-48e3-bfbf-232aa747f9b1"
      },
      "execution_count": 10,
      "outputs": [
        {
          "output_type": "execute_result",
          "data": {
            "text/plain": [
              "<Axes: >"
            ]
          },
          "metadata": {},
          "execution_count": 10
        },
        {
          "output_type": "display_data",
          "data": {
            "text/plain": [
              "<Figure size 640x480 with 1 Axes>"
            ],
            "image/png": "[encoded data removed]"
          },
          "metadata": {}
        }
      ]
    },
    {
      "cell_type": "code",
      "source": [
        "input_dim = vocab_size # độ dài của những từ riêng biệt\n",
        "output_dim = 128\n",
        "input_length = X.shape[-1]\n",
        "dropout_threshold = 0.5\n",
        "\n",
        "model1 = tf.keras.Sequential([\n",
        "    tf.keras.layers.Embedding(input_dim=input_dim, output_dim=output_dim, input_length=input_length),\n",
        "    tf.keras.layers.Bidirectional(LSTM(units=output_dim, dropout= dropout_threshold, return_sequences=True), merge_mode='concat'),\n",
        "    tf.keras.layers.Bidirectional(LSTM(units=output_dim, return_sequences=True)),\n",
        "    tf.keras.layers.GlobalAveragePooling1D(),\n",
        "    tf.keras.layers.Dense(128, activation='relu'),\n",
        "    tf.keras.layers.Dropout(0.1),\n",
        "    tf.keras.layers.Dense(128, activation='relu'),\n",
        "    tf.keras.layers.Dropout(0.1),\n",
        "    tf.keras.layers.Dense(128, activation='relu'),\n",
        "    tf.keras.layers.Dropout(0.1),\n",
        "    tf.keras.layers.Dense(128, activation='relu'),\n",
        "    tf.keras.layers.Dense(input_dim, activation='sigmoid')\n",
        "])\n",
        "\n",
        "adam = Adam(learning_rate=0.001)\n",
        "model1.compile(optimizer=adam, loss='categorical_crossentropy', metrics=tf.keras.metrics.CategoricalAccuracy(\n",
        "    name='categorical_accuracy', dtype=None))\n",
        "\n",
        "model1.summary()"
      ],
      "metadata": {
        "colab": {
          "base_uri": "https://localhost:8080/"
        },
        "id": "1CllgK9MBL_A",
        "outputId": "6c5a2dd8-ddee-4642-e570-9b45e9b840d1"
      },
      "execution_count": 42,
      "outputs": [
        {
          "output_type": "stream",
          "name": "stdout",
          "text": [
            "Model: \"sequential_3\"\n",
            "_________________________________________________________________\n",
            " Layer (type)                Output Shape              Param #   \n",
            "=================================================================\n",
            " embedding_3 (Embedding)     (None, 25, 128)           97024     \n",
            "                                                                 \n",
            " bidirectional_6 (Bidirecti  (None, 25, 256)           263168    \n",
            " onal)                                                           \n",
            "                                                                 \n",
            " bidirectional_7 (Bidirecti  (None, 25, 256)           394240    \n",
            " onal)                                                           \n",
            "                                                                 \n",
            " global_average_pooling1d_3  (None, 256)               0         \n",
            "  (GlobalAveragePooling1D)                                       \n",
            "                                                                 \n",
            " dense_15 (Dense)            (None, 128)               32896     \n",
            "                                                                 \n",
            " dropout_9 (Dropout)         (None, 128)               0         \n",
            "                                                                 \n",
            " dense_16 (Dense)            (None, 128)               16512     \n",
            "                                                                 \n",
            " dropout_10 (Dropout)        (None, 128)               0         \n",
            "                                                                 \n",
            " dense_17 (Dense)            (None, 128)               16512     \n",
            "                                                                 \n",
            " dropout_11 (Dropout)        (None, 128)               0         \n",
            "                                                                 \n",
            " dense_18 (Dense)            (None, 128)               16512     \n",
            "                                                                 \n",
            " dense_19 (Dense)            (None, 758)               97782     \n",
            "                                                                 \n",
            "=================================================================\n",
            "Total params: 934646 (3.57 MB)\n",
            "Trainable params: 934646 (3.57 MB)\n",
            "Non-trainable params: 0 (0.00 Byte)\n",
            "_________________________________________________________________\n"
          ]
        }
      ]
    },
    {
      "cell_type": "code",
      "source": [
        "model1.fit(X,y, batch_size=128, epochs=200, shuffle=True)"
      ],
      "metadata": {
        "colab": {
          "base_uri": "https://localhost:8080/"
        },
        "id": "0qGOWYijfOSa",
        "outputId": "5c9dda99-77aa-4de5-a5e0-db6fb1b4bd82"
      },
      "execution_count": 44,
      "outputs": [
        {
          "output_type": "stream",
          "name": "stdout",
          "text": [
            "Epoch 1/200\n",
            "22/22 [==============================] - 1s 34ms/step - loss: 3.9473 - categorical_accuracy: 0.1001\n",
            "Epoch 2/200\n",
            "22/22 [==============================] - 1s 24ms/step - loss: 3.8986 - categorical_accuracy: 0.0957\n",
            "Epoch 3/200\n",
            "22/22 [==============================] - 0s 14ms/step - loss: 3.8542 - categorical_accuracy: 0.1085\n",
            "Epoch 4/200\n",
            "22/22 [==============================] - 0s 20ms/step - loss: 3.8504 - categorical_accuracy: 0.1059\n",
            "Epoch 5/200\n",
            "22/22 [==============================] - 0s 13ms/step - loss: 3.7959 - categorical_accuracy: 0.1023\n",
            "Epoch 6/200\n",
            "22/22 [==============================] - 0s 23ms/step - loss: 3.7628 - categorical_accuracy: 0.1103\n",
            "Epoch 7/200\n",
            "22/22 [==============================] - 0s 22ms/step - loss: 3.7028 - categorical_accuracy: 0.1133\n",
            "Epoch 8/200\n",
            "22/22 [==============================] - 0s 22ms/step - loss: 3.6737 - categorical_accuracy: 0.1136\n",
            "Epoch 9/200\n",
            "22/22 [==============================] - 0s 14ms/step - loss: 3.6719 - categorical_accuracy: 0.1118\n",
            "Epoch 10/200\n",
            "22/22 [==============================] - 0s 21ms/step - loss: 3.6291 - categorical_accuracy: 0.1217\n",
            "Epoch 11/200\n",
            "22/22 [==============================] - 0s 13ms/step - loss: 3.6536 - categorical_accuracy: 0.1144\n",
            "Epoch 12/200\n",
            "22/22 [==============================] - 0s 22ms/step - loss: 3.6045 - categorical_accuracy: 0.1103\n",
            "Epoch 13/200\n",
            "22/22 [==============================] - 1s 32ms/step - loss: 3.5456 - categorical_accuracy: 0.1250\n",
            "Epoch 14/200\n",
            "22/22 [==============================] - 1s 34ms/step - loss: 3.5359 - categorical_accuracy: 0.1323\n",
            "Epoch 15/200\n",
            "22/22 [==============================] - 0s 20ms/step - loss: 3.4962 - categorical_accuracy: 0.1301\n",
            "Epoch 16/200\n",
            "22/22 [==============================] - 0s 18ms/step - loss: 3.4695 - categorical_accuracy: 0.1371\n",
            "Epoch 17/200\n",
            "22/22 [==============================] - 1s 33ms/step - loss: 3.3999 - categorical_accuracy: 0.1404\n",
            "Epoch 18/200\n",
            "22/22 [==============================] - 0s 18ms/step - loss: 3.4126 - categorical_accuracy: 0.1419\n",
            "Epoch 19/200\n",
            "22/22 [==============================] - 1s 26ms/step - loss: 3.3756 - categorical_accuracy: 0.1433\n",
            "Epoch 20/200\n",
            "22/22 [==============================] - 0s 13ms/step - loss: 3.3477 - categorical_accuracy: 0.1437\n",
            "Epoch 21/200\n",
            "22/22 [==============================] - 0s 13ms/step - loss: 3.3449 - categorical_accuracy: 0.1444\n",
            "Epoch 22/200\n",
            "22/22 [==============================] - 1s 29ms/step - loss: 3.2938 - categorical_accuracy: 0.1598\n",
            "Epoch 23/200\n",
            "22/22 [==============================] - 0s 14ms/step - loss: 3.3107 - categorical_accuracy: 0.1496\n",
            "Epoch 24/200\n",
            "22/22 [==============================] - 0s 22ms/step - loss: 3.2510 - categorical_accuracy: 0.1584\n",
            "Epoch 25/200\n",
            "22/22 [==============================] - 1s 31ms/step - loss: 3.2730 - categorical_accuracy: 0.1668\n",
            "Epoch 26/200\n",
            "22/22 [==============================] - 0s 22ms/step - loss: 3.2122 - categorical_accuracy: 0.1569\n",
            "Epoch 27/200\n",
            "22/22 [==============================] - 0s 13ms/step - loss: 3.1781 - categorical_accuracy: 0.1708\n",
            "Epoch 28/200\n",
            "22/22 [==============================] - 0s 13ms/step - loss: 3.1493 - categorical_accuracy: 0.1756\n",
            "Epoch 29/200\n",
            "22/22 [==============================] - 0s 22ms/step - loss: 3.1287 - categorical_accuracy: 0.1815\n",
            "Epoch 30/200\n",
            "22/22 [==============================] - 0s 13ms/step - loss: 3.1004 - categorical_accuracy: 0.1752\n",
            "Epoch 31/200\n",
            "22/22 [==============================] - 0s 14ms/step - loss: 3.1267 - categorical_accuracy: 0.1727\n",
            "Epoch 32/200\n",
            "22/22 [==============================] - 0s 19ms/step - loss: 3.0782 - categorical_accuracy: 0.1910\n",
            "Epoch 33/200\n",
            "22/22 [==============================] - 0s 13ms/step - loss: 3.0456 - categorical_accuracy: 0.1965\n",
            "Epoch 34/200\n",
            "22/22 [==============================] - 0s 22ms/step - loss: 3.0023 - categorical_accuracy: 0.1965\n",
            "Epoch 35/200\n",
            "22/22 [==============================] - 0s 13ms/step - loss: 2.9778 - categorical_accuracy: 0.1979\n",
            "Epoch 36/200\n",
            "22/22 [==============================] - 0s 13ms/step - loss: 3.0124 - categorical_accuracy: 0.1866\n",
            "Epoch 37/200\n",
            "22/22 [==============================] - 0s 14ms/step - loss: 2.9563 - categorical_accuracy: 0.1891\n",
            "Epoch 38/200\n",
            "22/22 [==============================] - 0s 22ms/step - loss: 2.8986 - categorical_accuracy: 0.2078\n",
            "Epoch 39/200\n",
            "22/22 [==============================] - 0s 13ms/step - loss: 2.8759 - categorical_accuracy: 0.2049\n",
            "Epoch 40/200\n",
            "22/22 [==============================] - 0s 22ms/step - loss: 2.8577 - categorical_accuracy: 0.2192\n",
            "Epoch 41/200\n",
            "22/22 [==============================] - 0s 13ms/step - loss: 2.8344 - categorical_accuracy: 0.2086\n",
            "Epoch 42/200\n",
            "22/22 [==============================] - 0s 13ms/step - loss: 2.8204 - categorical_accuracy: 0.2335\n",
            "Epoch 43/200\n",
            "22/22 [==============================] - 0s 22ms/step - loss: 2.8368 - categorical_accuracy: 0.2023\n",
            "Epoch 44/200\n",
            "22/22 [==============================] - 0s 13ms/step - loss: 2.7622 - categorical_accuracy: 0.2236\n",
            "Epoch 45/200\n",
            "22/22 [==============================] - 0s 16ms/step - loss: 2.7562 - categorical_accuracy: 0.2254\n",
            "Epoch 46/200\n",
            "22/22 [==============================] - 0s 18ms/step - loss: 2.7445 - categorical_accuracy: 0.2438\n",
            "Epoch 47/200\n",
            "22/22 [==============================] - 0s 18ms/step - loss: 2.7323 - categorical_accuracy: 0.2309\n",
            "Epoch 48/200\n",
            "22/22 [==============================] - 1s 32ms/step - loss: 2.6953 - categorical_accuracy: 0.2460\n",
            "Epoch 49/200\n",
            "22/22 [==============================] - 0s 18ms/step - loss: 2.6852 - categorical_accuracy: 0.2339\n",
            "Epoch 50/200\n",
            "22/22 [==============================] - 1s 34ms/step - loss: 2.6311 - categorical_accuracy: 0.2463\n",
            "Epoch 51/200\n",
            "22/22 [==============================] - 0s 17ms/step - loss: 2.6636 - categorical_accuracy: 0.2408\n",
            "Epoch 52/200\n",
            "22/22 [==============================] - 1s 30ms/step - loss: 2.6020 - categorical_accuracy: 0.2526\n",
            "Epoch 53/200\n",
            "22/22 [==============================] - 0s 20ms/step - loss: 2.6097 - categorical_accuracy: 0.2441\n",
            "Epoch 54/200\n",
            "22/22 [==============================] - 0s 22ms/step - loss: 2.5764 - categorical_accuracy: 0.2691\n",
            "Epoch 55/200\n",
            "22/22 [==============================] - 0s 13ms/step - loss: 2.6173 - categorical_accuracy: 0.2500\n",
            "Epoch 56/200\n",
            "22/22 [==============================] - 0s 13ms/step - loss: 2.5350 - categorical_accuracy: 0.2694\n",
            "Epoch 57/200\n",
            "22/22 [==============================] - 0s 22ms/step - loss: 2.5092 - categorical_accuracy: 0.2786\n",
            "Epoch 58/200\n",
            "22/22 [==============================] - 0s 22ms/step - loss: 2.5069 - categorical_accuracy: 0.2760\n",
            "Epoch 59/200\n",
            "22/22 [==============================] - 0s 14ms/step - loss: 2.4754 - categorical_accuracy: 0.2793\n",
            "Epoch 60/200\n",
            "22/22 [==============================] - 0s 22ms/step - loss: 2.4765 - categorical_accuracy: 0.2797\n",
            "Epoch 61/200\n",
            "22/22 [==============================] - 0s 13ms/step - loss: 2.4652 - categorical_accuracy: 0.2808\n",
            "Epoch 62/200\n",
            "22/22 [==============================] - 0s 22ms/step - loss: 2.4330 - categorical_accuracy: 0.2881\n",
            "Epoch 63/200\n",
            "22/22 [==============================] - 0s 13ms/step - loss: 2.3782 - categorical_accuracy: 0.3076\n",
            "Epoch 64/200\n",
            "22/22 [==============================] - 0s 13ms/step - loss: 2.4292 - categorical_accuracy: 0.2947\n",
            "Epoch 65/200\n",
            "22/22 [==============================] - 0s 13ms/step - loss: 2.3709 - categorical_accuracy: 0.2933\n",
            "Epoch 66/200\n",
            "22/22 [==============================] - 0s 13ms/step - loss: 2.3705 - categorical_accuracy: 0.2991\n",
            "Epoch 67/200\n",
            "22/22 [==============================] - 0s 13ms/step - loss: 2.3404 - categorical_accuracy: 0.3098\n",
            "Epoch 68/200\n",
            "22/22 [==============================] - 0s 16ms/step - loss: 2.3045 - categorical_accuracy: 0.3196\n",
            "Epoch 69/200\n",
            "22/22 [==============================] - 0s 19ms/step - loss: 2.2872 - categorical_accuracy: 0.3163\n",
            "Epoch 70/200\n",
            "22/22 [==============================] - 1s 31ms/step - loss: 2.3092 - categorical_accuracy: 0.3174\n",
            "Epoch 71/200\n",
            "22/22 [==============================] - 0s 14ms/step - loss: 2.2518 - categorical_accuracy: 0.3207\n",
            "Epoch 72/200\n",
            "22/22 [==============================] - 0s 20ms/step - loss: 2.2937 - categorical_accuracy: 0.3141\n",
            "Epoch 73/200\n",
            "22/22 [==============================] - 0s 21ms/step - loss: 2.2640 - categorical_accuracy: 0.3167\n",
            "Epoch 74/200\n",
            "22/22 [==============================] - 0s 13ms/step - loss: 2.2200 - categorical_accuracy: 0.3321\n",
            "Epoch 75/200\n",
            "22/22 [==============================] - 0s 22ms/step - loss: 2.2793 - categorical_accuracy: 0.3277\n",
            "Epoch 76/200\n",
            "22/22 [==============================] - 0s 14ms/step - loss: 2.1958 - categorical_accuracy: 0.3431\n",
            "Epoch 77/200\n",
            "22/22 [==============================] - 0s 22ms/step - loss: 2.1696 - categorical_accuracy: 0.3468\n",
            "Epoch 78/200\n",
            "22/22 [==============================] - 1s 30ms/step - loss: 2.1752 - categorical_accuracy: 0.3501\n",
            "Epoch 79/200\n",
            "22/22 [==============================] - 0s 19ms/step - loss: 2.2013 - categorical_accuracy: 0.3383\n",
            "Epoch 80/200\n",
            "22/22 [==============================] - 0s 17ms/step - loss: 2.1688 - categorical_accuracy: 0.3438\n",
            "Epoch 81/200\n",
            "22/22 [==============================] - 0s 17ms/step - loss: 2.1222 - categorical_accuracy: 0.3618\n",
            "Epoch 82/200\n",
            "22/22 [==============================] - 0s 18ms/step - loss: 2.0758 - categorical_accuracy: 0.3724\n",
            "Epoch 83/200\n",
            "22/22 [==============================] - 1s 33ms/step - loss: 2.0531 - categorical_accuracy: 0.3633\n",
            "Epoch 84/200\n",
            "22/22 [==============================] - 0s 18ms/step - loss: 2.0677 - categorical_accuracy: 0.3761\n",
            "Epoch 85/200\n",
            "22/22 [==============================] - 0s 18ms/step - loss: 2.0612 - categorical_accuracy: 0.3677\n",
            "Epoch 86/200\n",
            "22/22 [==============================] - 0s 15ms/step - loss: 2.0487 - categorical_accuracy: 0.3691\n",
            "Epoch 87/200\n",
            "22/22 [==============================] - 0s 13ms/step - loss: 2.0252 - categorical_accuracy: 0.3787\n",
            "Epoch 88/200\n",
            "22/22 [==============================] - 0s 13ms/step - loss: 1.9857 - categorical_accuracy: 0.3875\n",
            "Epoch 89/200\n",
            "22/22 [==============================] - 0s 13ms/step - loss: 1.9962 - categorical_accuracy: 0.3746\n",
            "Epoch 90/200\n",
            "22/22 [==============================] - 0s 13ms/step - loss: 2.0123 - categorical_accuracy: 0.3886\n",
            "Epoch 91/200\n",
            "22/22 [==============================] - 0s 13ms/step - loss: 1.9820 - categorical_accuracy: 0.3959\n",
            "Epoch 92/200\n",
            "22/22 [==============================] - 0s 13ms/step - loss: 1.9433 - categorical_accuracy: 0.4058\n",
            "Epoch 93/200\n",
            "22/22 [==============================] - 0s 13ms/step - loss: 1.9199 - categorical_accuracy: 0.4007\n",
            "Epoch 94/200\n",
            "22/22 [==============================] - 1s 31ms/step - loss: 1.9412 - categorical_accuracy: 0.3911\n",
            "Epoch 95/200\n",
            "22/22 [==============================] - 0s 14ms/step - loss: 1.8591 - categorical_accuracy: 0.4146\n",
            "Epoch 96/200\n",
            "22/22 [==============================] - 0s 20ms/step - loss: 1.8774 - categorical_accuracy: 0.4120\n",
            "Epoch 97/200\n",
            "22/22 [==============================] - 0s 14ms/step - loss: 1.9159 - categorical_accuracy: 0.4014\n",
            "Epoch 98/200\n",
            "22/22 [==============================] - 1s 24ms/step - loss: 1.9029 - categorical_accuracy: 0.4117\n",
            "Epoch 99/200\n",
            "22/22 [==============================] - 0s 14ms/step - loss: 1.8688 - categorical_accuracy: 0.4212\n",
            "Epoch 100/200\n",
            "22/22 [==============================] - 0s 14ms/step - loss: 1.8118 - categorical_accuracy: 0.4344\n",
            "Epoch 101/200\n",
            "22/22 [==============================] - 0s 14ms/step - loss: 1.8040 - categorical_accuracy: 0.4406\n",
            "Epoch 102/200\n",
            "22/22 [==============================] - 0s 14ms/step - loss: 1.8037 - categorical_accuracy: 0.4227\n",
            "Epoch 103/200\n",
            "22/22 [==============================] - 0s 14ms/step - loss: 1.7731 - categorical_accuracy: 0.4454\n",
            "Epoch 104/200\n",
            "22/22 [==============================] - 0s 23ms/step - loss: 1.7936 - categorical_accuracy: 0.4318\n",
            "Epoch 105/200\n",
            "22/22 [==============================] - 0s 23ms/step - loss: 1.7742 - categorical_accuracy: 0.4465\n",
            "Epoch 106/200\n",
            "22/22 [==============================] - 1s 23ms/step - loss: 1.7428 - categorical_accuracy: 0.4340\n",
            "Epoch 107/200\n",
            "22/22 [==============================] - 0s 13ms/step - loss: 1.7593 - categorical_accuracy: 0.4476\n",
            "Epoch 108/200\n",
            "22/22 [==============================] - 0s 23ms/step - loss: 1.7522 - categorical_accuracy: 0.4520\n",
            "Epoch 109/200\n",
            "22/22 [==============================] - 0s 14ms/step - loss: 1.7360 - categorical_accuracy: 0.4402\n",
            "Epoch 110/200\n",
            "22/22 [==============================] - 0s 13ms/step - loss: 1.7322 - categorical_accuracy: 0.4472\n",
            "Epoch 111/200\n",
            "22/22 [==============================] - 0s 13ms/step - loss: 1.7270 - categorical_accuracy: 0.4501\n",
            "Epoch 112/200\n",
            "22/22 [==============================] - 0s 15ms/step - loss: 1.6901 - categorical_accuracy: 0.4578\n",
            "Epoch 113/200\n",
            "22/22 [==============================] - 0s 13ms/step - loss: 1.6681 - categorical_accuracy: 0.4718\n",
            "Epoch 114/200\n",
            "22/22 [==============================] - 1s 32ms/step - loss: 1.6353 - categorical_accuracy: 0.4809\n",
            "Epoch 115/200\n",
            "22/22 [==============================] - 0s 19ms/step - loss: 1.6490 - categorical_accuracy: 0.4670\n",
            "Epoch 116/200\n",
            "22/22 [==============================] - 0s 19ms/step - loss: 1.6551 - categorical_accuracy: 0.4718\n",
            "Epoch 117/200\n",
            "22/22 [==============================] - 1s 34ms/step - loss: 1.6128 - categorical_accuracy: 0.4861\n",
            "Epoch 118/200\n",
            "22/22 [==============================] - 1s 32ms/step - loss: 1.6025 - categorical_accuracy: 0.4971\n",
            "Epoch 119/200\n",
            "22/22 [==============================] - 1s 44ms/step - loss: 1.6201 - categorical_accuracy: 0.4853\n",
            "Epoch 120/200\n",
            "22/22 [==============================] - 0s 15ms/step - loss: 1.5679 - categorical_accuracy: 0.4993\n",
            "Epoch 121/200\n",
            "22/22 [==============================] - 0s 13ms/step - loss: 1.5869 - categorical_accuracy: 0.4963\n",
            "Epoch 122/200\n",
            "22/22 [==============================] - 0s 14ms/step - loss: 1.5797 - categorical_accuracy: 0.5011\n",
            "Epoch 123/200\n",
            "22/22 [==============================] - 0s 13ms/step - loss: 1.5233 - categorical_accuracy: 0.5106\n",
            "Epoch 124/200\n",
            "22/22 [==============================] - 0s 13ms/step - loss: 1.5415 - categorical_accuracy: 0.5026\n",
            "Epoch 125/200\n",
            "22/22 [==============================] - 1s 23ms/step - loss: 1.5389 - categorical_accuracy: 0.4952\n",
            "Epoch 126/200\n",
            "22/22 [==============================] - 0s 13ms/step - loss: 1.4997 - categorical_accuracy: 0.5125\n",
            "Epoch 127/200\n",
            "22/22 [==============================] - 0s 13ms/step - loss: 1.5444 - categorical_accuracy: 0.5077\n",
            "Epoch 128/200\n",
            "22/22 [==============================] - 0s 14ms/step - loss: 1.5034 - categorical_accuracy: 0.5106\n",
            "Epoch 129/200\n",
            "22/22 [==============================] - 0s 13ms/step - loss: 1.4537 - categorical_accuracy: 0.5326\n",
            "Epoch 130/200\n",
            "22/22 [==============================] - 0s 13ms/step - loss: 1.4990 - categorical_accuracy: 0.5202\n",
            "Epoch 131/200\n",
            "22/22 [==============================] - 0s 22ms/step - loss: 1.5475 - categorical_accuracy: 0.5066\n",
            "Epoch 132/200\n",
            "22/22 [==============================] - 0s 14ms/step - loss: 1.4650 - categorical_accuracy: 0.5253\n",
            "Epoch 133/200\n",
            "22/22 [==============================] - 1s 23ms/step - loss: 1.4056 - categorical_accuracy: 0.5400\n",
            "Epoch 134/200\n",
            "22/22 [==============================] - 0s 14ms/step - loss: 1.4305 - categorical_accuracy: 0.5374\n",
            "Epoch 135/200\n",
            "22/22 [==============================] - 0s 13ms/step - loss: 1.4303 - categorical_accuracy: 0.5323\n",
            "Epoch 136/200\n",
            "22/22 [==============================] - 0s 14ms/step - loss: 1.3908 - categorical_accuracy: 0.5407\n",
            "Epoch 137/200\n",
            "22/22 [==============================] - 0s 14ms/step - loss: 1.3903 - categorical_accuracy: 0.5488\n",
            "Epoch 138/200\n",
            "22/22 [==============================] - 0s 22ms/step - loss: 1.3886 - categorical_accuracy: 0.5455\n",
            "Epoch 139/200\n",
            "22/22 [==============================] - 0s 14ms/step - loss: 1.3784 - categorical_accuracy: 0.5510\n",
            "Epoch 140/200\n",
            "22/22 [==============================] - 0s 14ms/step - loss: 1.3571 - categorical_accuracy: 0.5568\n",
            "Epoch 141/200\n",
            "22/22 [==============================] - 0s 23ms/step - loss: 1.3633 - categorical_accuracy: 0.5539\n",
            "Epoch 142/200\n",
            "22/22 [==============================] - 0s 14ms/step - loss: 1.3643 - categorical_accuracy: 0.5579\n",
            "Epoch 143/200\n",
            "22/22 [==============================] - 0s 20ms/step - loss: 1.3251 - categorical_accuracy: 0.5748\n",
            "Epoch 144/200\n",
            "22/22 [==============================] - 0s 13ms/step - loss: 1.2971 - categorical_accuracy: 0.5696\n",
            "Epoch 145/200\n",
            "22/22 [==============================] - 0s 23ms/step - loss: 1.3568 - categorical_accuracy: 0.5715\n",
            "Epoch 146/200\n",
            "22/22 [==============================] - 0s 19ms/step - loss: 1.3824 - categorical_accuracy: 0.5524\n",
            "Epoch 147/200\n",
            "22/22 [==============================] - 0s 13ms/step - loss: 1.3008 - categorical_accuracy: 0.5711\n",
            "Epoch 148/200\n",
            "22/22 [==============================] - 0s 19ms/step - loss: 1.3328 - categorical_accuracy: 0.5718\n",
            "Epoch 149/200\n",
            "22/22 [==============================] - 1s 28ms/step - loss: 1.2758 - categorical_accuracy: 0.5792\n",
            "Epoch 150/200\n",
            "22/22 [==============================] - 0s 17ms/step - loss: 1.2657 - categorical_accuracy: 0.5795\n",
            "Epoch 151/200\n",
            "22/22 [==============================] - 0s 18ms/step - loss: 1.3145 - categorical_accuracy: 0.5634\n",
            "Epoch 152/200\n",
            "22/22 [==============================] - 0s 18ms/step - loss: 1.2953 - categorical_accuracy: 0.5685\n",
            "Epoch 153/200\n",
            "22/22 [==============================] - 1s 33ms/step - loss: 1.2784 - categorical_accuracy: 0.5883\n",
            "Epoch 154/200\n",
            "22/22 [==============================] - 0s 19ms/step - loss: 1.2392 - categorical_accuracy: 0.5799\n",
            "Epoch 155/200\n",
            "22/22 [==============================] - 0s 19ms/step - loss: 1.2557 - categorical_accuracy: 0.5806\n",
            "Epoch 156/200\n",
            "22/22 [==============================] - 0s 23ms/step - loss: 1.2203 - categorical_accuracy: 0.5946\n",
            "Epoch 157/200\n",
            "22/22 [==============================] - 0s 20ms/step - loss: 1.2016 - categorical_accuracy: 0.5990\n",
            "Epoch 158/200\n",
            "22/22 [==============================] - 0s 14ms/step - loss: 1.1874 - categorical_accuracy: 0.6034\n",
            "Epoch 159/200\n",
            "22/22 [==============================] - 1s 23ms/step - loss: 1.1398 - categorical_accuracy: 0.6158\n",
            "Epoch 160/200\n",
            "22/22 [==============================] - 0s 14ms/step - loss: 1.2490 - categorical_accuracy: 0.5887\n",
            "Epoch 161/200\n",
            "22/22 [==============================] - 0s 14ms/step - loss: 1.1971 - categorical_accuracy: 0.6111\n",
            "Epoch 162/200\n",
            "22/22 [==============================] - 0s 14ms/step - loss: 1.1695 - categorical_accuracy: 0.6199\n",
            "Epoch 163/200\n",
            "22/22 [==============================] - 0s 13ms/step - loss: 1.1408 - categorical_accuracy: 0.6246\n",
            "Epoch 164/200\n",
            "22/22 [==============================] - 0s 14ms/step - loss: 1.1415 - categorical_accuracy: 0.6213\n",
            "Epoch 165/200\n",
            "22/22 [==============================] - 0s 14ms/step - loss: 1.1449 - categorical_accuracy: 0.6279\n",
            "Epoch 166/200\n",
            "22/22 [==============================] - 0s 13ms/step - loss: 1.1239 - categorical_accuracy: 0.6279\n",
            "Epoch 167/200\n",
            "22/22 [==============================] - 0s 14ms/step - loss: 1.1513 - categorical_accuracy: 0.6180\n",
            "Epoch 168/200\n",
            "22/22 [==============================] - 0s 14ms/step - loss: 1.1452 - categorical_accuracy: 0.6239\n",
            "Epoch 169/200\n",
            "22/22 [==============================] - 0s 23ms/step - loss: 1.1358 - categorical_accuracy: 0.6334\n",
            "Epoch 170/200\n",
            "22/22 [==============================] - 0s 13ms/step - loss: 1.1198 - categorical_accuracy: 0.6213\n",
            "Epoch 171/200\n",
            "22/22 [==============================] - 0s 14ms/step - loss: 1.1599 - categorical_accuracy: 0.6140\n",
            "Epoch 172/200\n",
            "22/22 [==============================] - 0s 14ms/step - loss: 1.0873 - categorical_accuracy: 0.6397\n",
            "Epoch 173/200\n",
            "22/22 [==============================] - 0s 14ms/step - loss: 1.0679 - categorical_accuracy: 0.6430\n",
            "Epoch 174/200\n",
            "22/22 [==============================] - 0s 14ms/step - loss: 1.0713 - categorical_accuracy: 0.6437\n",
            "Epoch 175/200\n",
            "22/22 [==============================] - 0s 13ms/step - loss: 1.0698 - categorical_accuracy: 0.6573\n",
            "Epoch 176/200\n",
            "22/22 [==============================] - 0s 13ms/step - loss: 1.0866 - categorical_accuracy: 0.6426\n",
            "Epoch 177/200\n",
            "22/22 [==============================] - 0s 13ms/step - loss: 1.0833 - categorical_accuracy: 0.6485\n",
            "Epoch 178/200\n",
            "22/22 [==============================] - 0s 14ms/step - loss: 1.0898 - categorical_accuracy: 0.6356\n",
            "Epoch 179/200\n",
            "22/22 [==============================] - 0s 13ms/step - loss: 1.0665 - categorical_accuracy: 0.6514\n",
            "Epoch 180/200\n",
            "22/22 [==============================] - 0s 14ms/step - loss: 1.0687 - categorical_accuracy: 0.6503\n",
            "Epoch 181/200\n",
            "22/22 [==============================] - 0s 14ms/step - loss: 1.0649 - categorical_accuracy: 0.6477\n",
            "Epoch 182/200\n",
            "22/22 [==============================] - 0s 13ms/step - loss: 1.0359 - categorical_accuracy: 0.6639\n",
            "Epoch 183/200\n",
            "22/22 [==============================] - 0s 22ms/step - loss: 1.0641 - categorical_accuracy: 0.6466\n",
            "Epoch 184/200\n",
            "22/22 [==============================] - 0s 14ms/step - loss: 1.0295 - categorical_accuracy: 0.6551\n",
            "Epoch 185/200\n",
            "22/22 [==============================] - 0s 14ms/step - loss: 0.9793 - categorical_accuracy: 0.6767\n",
            "Epoch 186/200\n",
            "22/22 [==============================] - 0s 18ms/step - loss: 1.0116 - categorical_accuracy: 0.6763\n",
            "Epoch 187/200\n",
            "22/22 [==============================] - 0s 19ms/step - loss: 0.9930 - categorical_accuracy: 0.6609\n",
            "Epoch 188/200\n",
            "22/22 [==============================] - 0s 19ms/step - loss: 1.0104 - categorical_accuracy: 0.6701\n",
            "Epoch 189/200\n",
            "22/22 [==============================] - 1s 47ms/step - loss: 0.9943 - categorical_accuracy: 0.6679\n",
            "Epoch 190/200\n",
            "22/22 [==============================] - 1s 33ms/step - loss: 0.9503 - categorical_accuracy: 0.6855\n",
            "Epoch 191/200\n",
            "22/22 [==============================] - 1s 30ms/step - loss: 0.9980 - categorical_accuracy: 0.6653\n",
            "Epoch 192/200\n",
            "22/22 [==============================] - 0s 13ms/step - loss: 0.9932 - categorical_accuracy: 0.6690\n",
            "Epoch 193/200\n",
            "22/22 [==============================] - 0s 13ms/step - loss: 0.9526 - categorical_accuracy: 0.6950\n",
            "Epoch 194/200\n",
            "22/22 [==============================] - 0s 14ms/step - loss: 0.9408 - categorical_accuracy: 0.6767\n",
            "Epoch 195/200\n",
            "22/22 [==============================] - 0s 14ms/step - loss: 0.9257 - categorical_accuracy: 0.7031\n",
            "Epoch 196/200\n",
            "22/22 [==============================] - 0s 13ms/step - loss: 0.9059 - categorical_accuracy: 0.6859\n",
            "Epoch 197/200\n",
            "22/22 [==============================] - 0s 14ms/step - loss: 0.9597 - categorical_accuracy: 0.6804\n",
            "Epoch 198/200\n",
            "22/22 [==============================] - 0s 14ms/step - loss: 0.9577 - categorical_accuracy: 0.6862\n",
            "Epoch 199/200\n",
            "22/22 [==============================] - 0s 14ms/step - loss: 0.9431 - categorical_accuracy: 0.6924\n",
            "Epoch 200/200\n",
            "22/22 [==============================] - 0s 14ms/step - loss: 0.9313 - categorical_accuracy: 0.6928\n"
          ]
        },
        {
          "output_type": "execute_result",
          "data": {
            "text/plain": [
              "<keras.src.callbacks.History at 0x780696726e00>"
            ]
          },
          "metadata": {},
          "execution_count": 44
        }
      ]
    },
    {
      "cell_type": "code",
      "source": [
        "model1.save('word_recommendation_Quan.h5')\n",
        "# model = tf.keras.models.load_model('word_recommendation_2.h5')"
      ],
      "metadata": {
        "id": "FlDTz-3IcwcR"
      },
      "execution_count": 50,
      "outputs": []
    },
    {
      "cell_type": "code",
      "source": [
        "# 1 dictionary chứa value và index\n",
        "words_index = tokenizer.word_index\n",
        "# words_index"
      ],
      "metadata": {
        "collapsed": true,
        "id": "pXQVzwNsUo7N"
      },
      "execution_count": 46,
      "outputs": []
    },
    {
      "cell_type": "code",
      "source": [
        "words_index['nhưng']"
      ],
      "metadata": {
        "colab": {
          "base_uri": "https://localhost:8080/"
        },
        "id": "QmRtrjO5toey",
        "outputId": "e78bc614-c231-485f-f6c1-86d362cf7e37"
      },
      "execution_count": 57,
      "outputs": [
        {
          "output_type": "execute_result",
          "data": {
            "text/plain": [
              "622"
            ]
          },
          "metadata": {},
          "execution_count": 57
        }
      ]
    },
    {
      "cell_type": "code",
      "source": [
        "ListOfWord = np.array(list(tokenizer.word_index.keys())) # chuyển tất cả vocab thành 1 list duy nhất\n",
        "# ListOfWord"
      ],
      "metadata": {
        "id": "8lwEkbz7x2Zv",
        "collapsed": true
      },
      "execution_count": 48,
      "outputs": []
    },
    {
      "cell_type": "code",
      "source": [
        "#TODO: chỉnh lại từ đây\n",
        "def make_prediction_second(text, n_predict_words):\n",
        "  for i in range(n_predict_words):\n",
        "    tokenized_input = (ViTokenizer.tokenize(text)).split()\n",
        "    text_indexing = [words_index[token] for token in tokenized_input if token in words_index]\n",
        "    # text_tokenize = tokenizer.texts_to_sequences([tokenized_input]) # tokenizer đang sủ dụng của tensorflow không phải của pyvi, in thử ra, text không bị lowercase\n",
        "    #cần xem lại output để đưa vào pad_sequence là gì, chạy lại hướng dẫn\n",
        "    text_padded = tf.keras.preprocessing.sequence.pad_sequences([text_indexing], maxlen=X.shape[-1])\n",
        "    prediction = np.squeeze(np.argmax(model1.predict(text_padded), axis=-1))\n",
        "    prediction = str(ListOfWord[prediction - 1])\n",
        "    text += \" \" + prediction\n",
        "  return text\n",
        "  # print(f'từ đã được tokenize', tokenized_input)\n",
        "  # print(f'các từ được đánh số', text_indexing)\n",
        "  # print(f'các từ được padded', text_padded)\n",
        "  # print(text_tokenize"
      ],
      "metadata": {
        "id": "fB53rgFlxUEN"
      },
      "execution_count": 58,
      "outputs": []
    },
    {
      "cell_type": "code",
      "source": [
        "make_prediction_second(\"đánh_giá theo sinh viên\", 10)"
      ],
      "metadata": {
        "colab": {
          "base_uri": "https://localhost:8080/",
          "height": 213
        },
        "id": "E9GwDx97yEbe",
        "outputId": "074646b1-aed7-4302-e0d6-58a5a51b9f69"
      },
      "execution_count": 59,
      "outputs": [
        {
          "output_type": "stream",
          "name": "stdout",
          "text": [
            "1/1 [==============================] - 0s 26ms/step\n",
            "1/1 [==============================] - 0s 23ms/step\n",
            "1/1 [==============================] - 0s 22ms/step\n",
            "1/1 [==============================] - 0s 23ms/step\n",
            "1/1 [==============================] - 0s 22ms/step\n",
            "1/1 [==============================] - 0s 21ms/step\n",
            "1/1 [==============================] - 0s 21ms/step\n",
            "1/1 [==============================] - 0s 22ms/step\n",
            "1/1 [==============================] - 0s 22ms/step\n",
            "1/1 [==============================] - 0s 33ms/step\n"
          ]
        },
        {
          "output_type": "execute_result",
          "data": {
            "text/plain": [
              "'đánh_giá theo sinh viên những đào_tạo quy_hoạch giảng giảng viênsv do bộ gdđt quy_định'"
            ],
            "application/vnd.google.colaboratory.intrinsic+json": {
              "type": "string"
            }
          },
          "metadata": {},
          "execution_count": 59
        }
      ]
    },
    {
      "cell_type": "code",
      "source": [
        "def make_prediction_first(text, n_words):\n",
        "    for i in range(n_words):\n",
        "        text_tokenize = tokenizer.texts_to_sequences([text])\n",
        "        text_padded = tf.keras.preprocessing.sequence.pad_sequences(text_tokenize, maxlen=80)\n",
        "        prediction = np.squeeze(np.argmax(model.predict(text_padded), axis=-1))\n",
        "        prediction = str(tokenized_sentences[prediction - 1])\n",
        "    #     print(vocab_array[np.argsort(model.predict(text_padded)) - 1].ravel()[:-3])\n",
        "    #     text += \" \" + prediction\n",
        "    # return text\n",
        "    # print(prediction)\n",
        "    print(text_padded)"
      ],
      "metadata": {
        "id": "7VLxez3PPUVa"
      },
      "execution_count": 45,
      "outputs": []
    },
    {
      "cell_type": "code",
      "source": [
        "\n",
        "text = \"công bố công khai trên website\"\n",
        "next_words = 3\n",
        "def predict_words_Vinh(text, n_predict_words):\n",
        "  for _ in range(next_words):\n",
        "      token_list = tokenizer.texts_to_sequences([text])[0]\n",
        "      token_list = pad_sequences(\n",
        "          [token_list], maxlen=max_sequence_len - 1, padding='pre')\n",
        "      predicted_probs = model.predict(token_list)\n",
        "      predicted_word = tokenizer.index_word[np.argmax(predicted_probs)]\n",
        "      text += \" \" + predicted_word\n",
        "\n",
        "  print(\"Next predicted words:\", text)"
      ],
      "metadata": {
        "id": "YeV7N_x0Xz_1"
      },
      "execution_count": null,
      "outputs": []
    },
    {
      "cell_type": "code",
      "source": [
        "index = [19, 20, 21]\n",
        "list_index = list(index)\n",
        "list_index\n"
      ],
      "metadata": {
        "colab": {
          "base_uri": "https://localhost:8080/"
        },
        "id": "-9bq9-4PNcF2",
        "outputId": "b3ef952e-8c4e-4956-8aec-48520029a8a1"
      },
      "execution_count": 24,
      "outputs": [
        {
          "output_type": "execute_result",
          "data": {
            "text/plain": [
              "[19, 20, 21]"
            ]
          },
          "metadata": {},
          "execution_count": 24
        }
      ]
    },
    {
      "cell_type": "code",
      "source": [
        "# # text_11 = ViTokenizer.tokenize(\"đánh_giá theo sinh viên\")\n",
        "# text_11 = \"đánh giá theo sinh viên\"\n",
        "# splited_text = (ViTokenizer.tokenize(text_11)).split()\n",
        "# # print(splited_text)\n",
        "# splited_text\n",
        "\n",
        "\n",
        "array_11 = ['đánh_giá', 'theo', 'sinh_viên']\n",
        "for i in range(len(array_11)):\n"
      ],
      "metadata": {
        "colab": {
          "base_uri": "https://localhost:8080/"
        },
        "id": "XhSlN5urz6E5",
        "outputId": "41e8c16b-fa9c-43e4-96e0-7f5bb2d0815e"
      },
      "execution_count": null,
      "outputs": [
        {
          "output_type": "execute_result",
          "data": {
            "text/plain": [
              "['đánh_giá', 'theo', 'sinh_viên']"
            ]
          },
          "metadata": {},
          "execution_count": 66
        }
      ]
    },
    {
      "cell_type": "code",
      "source": [
        "token_to_index[\"báo_cáo\"]"
      ],
      "metadata": {
        "colab": {
          "base_uri": "https://localhost:8080/"
        },
        "id": "f02DH67Y31vP",
        "outputId": "08567cac-5444-4154-f921-3fae19953622"
      },
      "execution_count": null,
      "outputs": [
        {
          "output_type": "execute_result",
          "data": {
            "text/plain": [
              "17"
            ]
          },
          "metadata": {},
          "execution_count": 58
        }
      ]
    }
  ]
}